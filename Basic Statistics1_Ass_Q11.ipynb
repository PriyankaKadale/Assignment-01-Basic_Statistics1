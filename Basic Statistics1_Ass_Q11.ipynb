{
 "cells": [
  {
   "cell_type": "markdown",
   "metadata": {},
   "source": [
    "# # Q11) Basic Stats 1- Assignment 1"
   ]
  },
  {
   "cell_type": "markdown",
   "metadata": {
    "ExecuteTime": {
     "end_time": "2021-09-19T05:01:02.761444Z",
     "start_time": "2021-09-19T05:01:02.742460Z"
    }
   },
   "source": [
    "Suppose we want to estimate the average weight of an adult male in Mexico.\n",
    "We draw a random sample of 2,000 men from a population of 3,000,000 men and weigh them.\n",
    "We find that the average person in our sample weighs 200 pounds, and the standard deviation of the sample is 30 pounds. \n",
    "Calculate 94%,98%,96% confidence interval?"
   ]
  },
  {
   "cell_type": "markdown",
   "metadata": {},
   "source": [
    "Here n=2000, sample mean=200, Standard Deviation= 30"
   ]
  },
  {
   "cell_type": "code",
   "execution_count": 2,
   "metadata": {
    "ExecuteTime": {
     "end_time": "2021-09-19T05:01:56.720410Z",
     "start_time": "2021-09-19T05:01:48.360485Z"
    }
   },
   "outputs": [],
   "source": [
    "import pandas as pd\n",
    "import numpy as np\n",
    "from scipy import stats\n",
    "from scipy.stats import norm"
   ]
  },
  {
   "cell_type": "markdown",
   "metadata": {},
   "source": [
    "----------  Confidence interval for 94%  ---------------"
   ]
  },
  {
   "cell_type": "code",
   "execution_count": 4,
   "metadata": {
    "ExecuteTime": {
     "end_time": "2021-09-19T05:02:53.401043Z",
     "start_time": "2021-09-19T05:02:53.227150Z"
    }
   },
   "outputs": [
    {
     "data": {
      "text/plain": [
       "(198.738325292158, 201.261674707842)"
      ]
     },
     "execution_count": 4,
     "metadata": {},
     "output_type": "execute_result"
    }
   ],
   "source": [
    "stats.norm.interval(0.94,200,30/np.sqrt(2000)) "
   ]
  },
  {
   "cell_type": "markdown",
   "metadata": {
    "ExecuteTime": {
     "end_time": "2021-09-19T05:02:04.483922Z",
     "start_time": "2021-09-19T05:02:04.469994Z"
    }
   },
   "source": [
    "----------  Confidence interval for 98%  ---------------"
   ]
  },
  {
   "cell_type": "code",
   "execution_count": 5,
   "metadata": {
    "ExecuteTime": {
     "end_time": "2021-09-19T05:03:09.495475Z",
     "start_time": "2021-09-19T05:03:09.483509Z"
    }
   },
   "outputs": [
    {
     "data": {
      "text/plain": [
       "(198.43943840429978, 201.56056159570022)"
      ]
     },
     "execution_count": 5,
     "metadata": {},
     "output_type": "execute_result"
    }
   ],
   "source": [
    "stats.norm.interval(0.98,200,30/np.sqrt(2000)) "
   ]
  },
  {
   "cell_type": "markdown",
   "metadata": {},
   "source": [
    "----------  Confidence interval for 96%  ---------------"
   ]
  },
  {
   "cell_type": "code",
   "execution_count": 6,
   "metadata": {
    "ExecuteTime": {
     "end_time": "2021-09-19T05:03:11.666712Z",
     "start_time": "2021-09-19T05:03:11.656738Z"
    }
   },
   "outputs": [
    {
     "data": {
      "text/plain": [
       "(198.62230334813333, 201.37769665186667)"
      ]
     },
     "execution_count": 6,
     "metadata": {},
     "output_type": "execute_result"
    }
   ],
   "source": [
    "stats.norm.interval(0.96,200,30/np.sqrt(2000)) "
   ]
  }
 ],
 "metadata": {
  "kernelspec": {
   "display_name": "Python 3",
   "language": "python",
   "name": "python3"
  },
  "language_info": {
   "codemirror_mode": {
    "name": "ipython",
    "version": 3
   },
   "file_extension": ".py",
   "mimetype": "text/x-python",
   "name": "python",
   "nbconvert_exporter": "python",
   "pygments_lexer": "ipython3",
   "version": "3.8.5"
  },
  "varInspector": {
   "cols": {
    "lenName": 16,
    "lenType": 16,
    "lenVar": 40
   },
   "kernels_config": {
    "python": {
     "delete_cmd_postfix": "",
     "delete_cmd_prefix": "del ",
     "library": "var_list.py",
     "varRefreshCmd": "print(var_dic_list())"
    },
    "r": {
     "delete_cmd_postfix": ") ",
     "delete_cmd_prefix": "rm(",
     "library": "var_list.r",
     "varRefreshCmd": "cat(var_dic_list()) "
    }
   },
   "types_to_exclude": [
    "module",
    "function",
    "builtin_function_or_method",
    "instance",
    "_Feature"
   ],
   "window_display": false
  }
 },
 "nbformat": 4,
 "nbformat_minor": 4
}
